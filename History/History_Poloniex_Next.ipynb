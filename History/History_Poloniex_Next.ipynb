{
 "cells": [
  {
   "cell_type": "code",
   "execution_count": 1,
   "metadata": {},
   "outputs": [
    {
     "name": "stdout",
     "output_type": "stream",
     "text": [
      "USDT_BTC\n"
     ]
    }
   ],
   "source": [
    "import requests\n",
    "import json\n",
    "import csv\n",
    "import datetime\n",
    "import time\n",
    "\n",
    "def write_csv(filename,new_line):\n",
    "    with open(filename, \"a\" ) as fout:\n",
    "        writer=csv.writer(fout)\n",
    "        writer.writerow((new_line))\n",
    "\n",
    "\n",
    "base_url=\"https://poloniex.com/public?command=returnChartData&currencyPair=\"\n",
    "pairs=open('pairs_poloniex_BTC.txt').read().split(\"\\n\")\n",
    "#start=1303593128\n",
    "end=int(time.mktime(datetime.datetime.utcnow().timetuple()))\n",
    "period = 1800\n",
    "\n",
    "for i in pairs:\n",
    "    filename=i+\".txt\"\n",
    "    \n",
    "    file_obj = open(filename, 'r')\n",
    "    w=file_obj.readlines()\n",
    "    YYYYs = int(w[len(w)-1][:4])\n",
    "    MMs = int(w[len(w)-1][4:6])\n",
    "    DDs = int(w[len(w)-1][6:8])\n",
    "    HHs = int(w[len(w)-1][9:11])\n",
    "    Mins = int(w[len(w)-1][11:13])+1\n",
    "    Secs = 0\n",
    "    file_obj.close()\n",
    "    start = int(time.mktime(datetime.datetime(YYYYs, MMs, DDs, HHs, Mins, Secs).timetuple()))\n",
    "    \n",
    "    \n",
    "    ticker_url=base_url+i+\"&start=\"+str(start)+\"&end=\"+str(end)+\"&period=\"+str(period)\n",
    "    html_ticker=requests.get(ticker_url).text\n",
    "    ticker_data=json.loads(html_ticker)    \n",
    "    \n",
    "    for j in range(len(ticker_data)):\n",
    "        YYYY=str(datetime.datetime.fromtimestamp(ticker_data[j][\"date\"]))[:4]\n",
    "        MM=str(datetime.datetime.fromtimestamp(ticker_data[j][\"date\"]))[5:7]\n",
    "        DD=str(datetime.datetime.fromtimestamp(ticker_data[j][\"date\"]))[8:10]\n",
    "        Date=YYYY+MM+DD\n",
    "            \n",
    "        HH=str(datetime.datetime.fromtimestamp(ticker_data[j][\"date\"]))[11:13]\n",
    "        Min=str(datetime.datetime.fromtimestamp(ticker_data[j][\"date\"]))[14:16]\n",
    "        Sec=\"00\"\n",
    "        Time=HH+Min+Sec\n",
    "            \n",
    "        Open = ticker_data[j][\"open\"]\n",
    "        High = ticker_data[j][\"high\"]\n",
    "        Low = ticker_data[j][\"low\"]\n",
    "        Close = ticker_data[j][\"close\"]\n",
    "        Vol =  ticker_data[j][\"volume\"]\n",
    "            \n",
    "        new_line=[Date, Time, Open, High, Low, Close, Vol]\n",
    "        write_csv(filename, new_line)\n",
    "\n",
    "    print i"
   ]
  },
  {
   "cell_type": "code",
   "execution_count": null,
   "metadata": {
    "collapsed": true
   },
   "outputs": [],
   "source": []
  }
 ],
 "metadata": {
  "anaconda-cloud": {},
  "kernelspec": {
   "display_name": "Python 2",
   "language": "python",
   "name": "python2"
  },
  "language_info": {
   "codemirror_mode": {
    "name": "ipython",
    "version": 2
   },
   "file_extension": ".py",
   "mimetype": "text/x-python",
   "name": "python",
   "nbconvert_exporter": "python",
   "pygments_lexer": "ipython2",
   "version": "2.7.13"
  }
 },
 "nbformat": 4,
 "nbformat_minor": 1
}
