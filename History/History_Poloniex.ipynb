{
 "cells": [
  {
   "cell_type": "code",
   "execution_count": 2,
   "metadata": {},
   "outputs": [
    {
     "name": "stdout",
     "output_type": "stream",
     "text": [
      "USDT_BTC\n"
     ]
    }
   ],
   "source": [
    "import requests\n",
    "import json\n",
    "import csv\n",
    "import datetime\n",
    "import time\n",
    "\n",
    "def write_csv(filename,new_line):\n",
    "    with open(filename, \"a\" ) as fout:\n",
    "        writer=csv.writer(fout)\n",
    "        writer.writerow((new_line))\n",
    "\n",
    "\n",
    "base_url=\"https://poloniex.com/public?command=returnChartData&currencyPair=\"\n",
    "pairs=open('pairs_poloniex.txt').read().split(\"\\n\")\n",
    "start=1103593128\n",
    "end=int(time.mktime(datetime.datetime.utcnow().timetuple()))\n",
    "period = 300 # в секундах\n",
    "\n",
    "for i in pairs:\n",
    "    try:\n",
    "        ticker_url=base_url+i+\"&start=\"+str(start)+\"&end=\"+str(end)+\"&period=\"+str(period)\n",
    "        html_ticker=requests.get(ticker_url).text\n",
    "        ticker_data=json.loads(html_ticker)\n",
    "        filename=i+\".txt\"\n",
    "    \n",
    "        for j in range(len(ticker_data)):\n",
    "            YYYY=str(datetime.datetime.fromtimestamp(ticker_data[j][\"date\"]))[:4]\n",
    "            MM=str(datetime.datetime.fromtimestamp(ticker_data[j][\"date\"]))[5:7]\n",
    "            DD=str(datetime.datetime.fromtimestamp(ticker_data[j][\"date\"]))[8:10]\n",
    "            Date=YYYY+MM+DD\n",
    "            \n",
    "            HH=str(datetime.datetime.fromtimestamp(ticker_data[j][\"date\"]))[11:13]\n",
    "            Min=str(datetime.datetime.fromtimestamp(ticker_data[j][\"date\"]))[14:16]\n",
    "            Sec=\"00\"\n",
    "            Time=HH+Min+Sec\n",
    "            \n",
    "            Open = ticker_data[j][\"open\"]\n",
    "            High = ticker_data[j][\"high\"]\n",
    "            Low = ticker_data[j][\"low\"]\n",
    "            Close = ticker_data[j][\"close\"]\n",
    "            Vol =  ticker_data[j][\"volume\"]\n",
    "            \n",
    "            new_line=[Date, Time, Open, High, Low, Close, Vol]\n",
    "            write_csv(filename, new_line)\n",
    "        print i\n",
    "    except:\n",
    "        pass"
   ]
  },
  {
   "cell_type": "code",
   "execution_count": 3,
   "metadata": {
    "collapsed": true
   },
   "outputs": [],
   "source": [
    "p=open('pairs_poloniex.txt').read().split(\"\\n\")"
   ]
  },
  {
   "cell_type": "code",
   "execution_count": 4,
   "metadata": {},
   "outputs": [
    {
     "name": "stdout",
     "output_type": "stream",
     "text": [
      "https://poloniex.com/public?command=returnChartData&currencyPair=BTC_AMP&start=1103593128&end=1508331798&period=3600 <type 'str'>\n",
      "https://poloniex.com/public?command=returnChartData&currencyPair=BTC_ARDR&start=1103593128&end=1508331798&period=3600 <type 'str'>\n",
      "https://poloniex.com/public?command=returnChartData&currencyPair=BTC_BCH&start=1103593128&end=1508331798&period=3600 <type 'str'>\n",
      "https://poloniex.com/public?command=returnChartData&currencyPair=BTC_BCN&start=1103593128&end=1508331798&period=3600 <type 'str'>\n",
      "https://poloniex.com/public?command=returnChartData&currencyPair=BTC_BCY&start=1103593128&end=1508331798&period=3600 <type 'str'>\n",
      "https://poloniex.com/public?command=returnChartData&currencyPair=BTC_BELA&start=1103593128&end=1508331798&period=3600 <type 'str'>\n",
      "https://poloniex.com/public?command=returnChartData&currencyPair=BTC_BLK&start=1103593128&end=1508331798&period=3600 <type 'str'>\n",
      "https://poloniex.com/public?command=returnChartData&currencyPair=BTC_BTCD&start=1103593128&end=1508331798&period=3600 <type 'str'>\n",
      "https://poloniex.com/public?command=returnChartData&currencyPair=BTC_BTM&start=1103593128&end=1508331798&period=3600 <type 'str'>\n",
      "https://poloniex.com/public?command=returnChartData&currencyPair=BTC_BTS&start=1103593128&end=1508331798&period=3600 <type 'str'>\n",
      "https://poloniex.com/public?command=returnChartData&currencyPair=BTC_BURST&start=1103593128&end=1508331798&period=3600 <type 'str'>\n",
      "https://poloniex.com/public?command=returnChartData&currencyPair=BTC_CLAM&start=1103593128&end=1508331798&period=3600 <type 'str'>\n",
      "https://poloniex.com/public?command=returnChartData&currencyPair=BTC_CVC&start=1103593128&end=1508331798&period=3600 <type 'str'>\n",
      "https://poloniex.com/public?command=returnChartData&currencyPair=BTC_DASH&start=1103593128&end=1508331798&period=3600 <type 'str'>\n",
      "https://poloniex.com/public?command=returnChartData&currencyPair=BTC_DCR&start=1103593128&end=1508331798&period=3600 <type 'str'>\n",
      "https://poloniex.com/public?command=returnChartData&currencyPair=BTC_DGB&start=1103593128&end=1508331798&period=3600 <type 'str'>\n",
      "https://poloniex.com/public?command=returnChartData&currencyPair=BTC_DOGE&start=1103593128&end=1508331798&period=3600 <type 'str'>\n",
      "https://poloniex.com/public?command=returnChartData&currencyPair=BTC_EMC2&start=1103593128&end=1508331798&period=3600 <type 'str'>\n",
      "https://poloniex.com/public?command=returnChartData&currencyPair=BTC_ETC&start=1103593128&end=1508331798&period=3600 <type 'str'>\n",
      "https://poloniex.com/public?command=returnChartData&currencyPair=BTC_ETH&start=1103593128&end=1508331798&period=3600 <type 'str'>\n",
      "https://poloniex.com/public?command=returnChartData&currencyPair=BTC_EXP&start=1103593128&end=1508331798&period=3600 <type 'str'>\n",
      "https://poloniex.com/public?command=returnChartData&currencyPair=BTC_FCT&start=1103593128&end=1508331798&period=3600 <type 'str'>\n",
      "https://poloniex.com/public?command=returnChartData&currencyPair=BTC_FLDC&start=1103593128&end=1508331798&period=3600 <type 'str'>\n",
      "https://poloniex.com/public?command=returnChartData&currencyPair=BTC_FLO&start=1103593128&end=1508331798&period=3600 <type 'str'>\n",
      "https://poloniex.com/public?command=returnChartData&currencyPair=BTC_GAME&start=1103593128&end=1508331798&period=3600 <type 'str'>\n",
      "https://poloniex.com/public?command=returnChartData&currencyPair=BTC_GAS&start=1103593128&end=1508331798&period=3600 <type 'str'>\n",
      "https://poloniex.com/public?command=returnChartData&currencyPair=BTC_GNO&start=1103593128&end=1508331798&period=3600 <type 'str'>\n",
      "https://poloniex.com/public?command=returnChartData&currencyPair=BTC_GNT&start=1103593128&end=1508331798&period=3600 <type 'str'>\n",
      "https://poloniex.com/public?command=returnChartData&currencyPair=BTC_GRC&start=1103593128&end=1508331798&period=3600 <type 'str'>\n",
      "https://poloniex.com/public?command=returnChartData&currencyPair=BTC_HUC&start=1103593128&end=1508331798&period=3600 <type 'str'>\n",
      "https://poloniex.com/public?command=returnChartData&currencyPair=BTC_LBC&start=1103593128&end=1508331798&period=3600 <type 'str'>\n",
      "https://poloniex.com/public?command=returnChartData&currencyPair=BTC_LSK&start=1103593128&end=1508331798&period=3600 <type 'str'>\n",
      "https://poloniex.com/public?command=returnChartData&currencyPair=BTC_LTC&start=1103593128&end=1508331798&period=3600 <type 'str'>\n",
      "https://poloniex.com/public?command=returnChartData&currencyPair=BTC_MAID&start=1103593128&end=1508331798&period=3600 <type 'str'>\n",
      "https://poloniex.com/public?command=returnChartData&currencyPair=BTC_NAUT&start=1103593128&end=1508331798&period=3600 <type 'str'>\n",
      "https://poloniex.com/public?command=returnChartData&currencyPair=BTC_NAV&start=1103593128&end=1508331798&period=3600 <type 'str'>\n",
      "https://poloniex.com/public?command=returnChartData&currencyPair=BTC_NEOS&start=1103593128&end=1508331798&period=3600 <type 'str'>\n",
      "https://poloniex.com/public?command=returnChartData&currencyPair=BTC_NMC&start=1103593128&end=1508331798&period=3600 <type 'str'>\n",
      "https://poloniex.com/public?command=returnChartData&currencyPair=BTC_NOTE&start=1103593128&end=1508331798&period=3600 <type 'str'>\n",
      "https://poloniex.com/public?command=returnChartData&currencyPair=BTC_NXC&start=1103593128&end=1508331798&period=3600 <type 'str'>\n",
      "https://poloniex.com/public?command=returnChartData&currencyPair=BTC_NXT&start=1103593128&end=1508331798&period=3600 <type 'str'>\n",
      "https://poloniex.com/public?command=returnChartData&currencyPair=BTC_OMG&start=1103593128&end=1508331798&period=3600 <type 'str'>\n",
      "https://poloniex.com/public?command=returnChartData&currencyPair=BTC_OMNI&start=1103593128&end=1508331798&period=3600 <type 'str'>\n",
      "https://poloniex.com/public?command=returnChartData&currencyPair=BTC_PASC&start=1103593128&end=1508331798&period=3600 <type 'str'>\n",
      "https://poloniex.com/public?command=returnChartData&currencyPair=BTC_PINK&start=1103593128&end=1508331798&period=3600 <type 'str'>\n",
      "https://poloniex.com/public?command=returnChartData&currencyPair=BTC_POT&start=1103593128&end=1508331798&period=3600 <type 'str'>\n",
      "https://poloniex.com/public?command=returnChartData&currencyPair=BTC_PPC&start=1103593128&end=1508331798&period=3600 <type 'str'>\n",
      "https://poloniex.com/public?command=returnChartData&currencyPair=BTC_RADS&start=1103593128&end=1508331798&period=3600 <type 'str'>\n",
      "https://poloniex.com/public?command=returnChartData&currencyPair=BTC_REP&start=1103593128&end=1508331798&period=3600 <type 'str'>\n",
      "https://poloniex.com/public?command=returnChartData&currencyPair=BTC_RIC&start=1103593128&end=1508331798&period=3600 <type 'str'>\n",
      "https://poloniex.com/public?command=returnChartData&currencyPair=BTC_SBD&start=1103593128&end=1508331798&period=3600 <type 'str'>\n",
      "https://poloniex.com/public?command=returnChartData&currencyPair=BTC_SC&start=1103593128&end=1508331798&period=3600 <type 'str'>\n",
      "https://poloniex.com/public?command=returnChartData&currencyPair=BTC_SJCX&start=1103593128&end=1508331798&period=3600 <type 'str'>\n",
      "https://poloniex.com/public?command=returnChartData&currencyPair=BTC_STEEM&start=1103593128&end=1508331798&period=3600 <type 'str'>\n",
      "https://poloniex.com/public?command=returnChartData&currencyPair=BTC_STR&start=1103593128&end=1508331798&period=3600 <type 'str'>\n",
      "https://poloniex.com/public?command=returnChartData&currencyPair=BTC_STRAT&start=1103593128&end=1508331798&period=3600 <type 'str'>\n",
      "https://poloniex.com/public?command=returnChartData&currencyPair=BTC_SYS&start=1103593128&end=1508331798&period=3600 <type 'str'>\n",
      "https://poloniex.com/public?command=returnChartData&currencyPair=BTC_VIA&start=1103593128&end=1508331798&period=3600 <type 'str'>\n",
      "https://poloniex.com/public?command=returnChartData&currencyPair=BTC_VRC&start=1103593128&end=1508331798&period=3600 <type 'str'>\n",
      "https://poloniex.com/public?command=returnChartData&currencyPair=BTC_VTC&start=1103593128&end=1508331798&period=3600 <type 'str'>\n",
      "https://poloniex.com/public?command=returnChartData&currencyPair=BTC_XBC&start=1103593128&end=1508331798&period=3600 <type 'str'>\n",
      "https://poloniex.com/public?command=returnChartData&currencyPair=BTC_XCP&start=1103593128&end=1508331798&period=3600 <type 'str'>\n",
      "https://poloniex.com/public?command=returnChartData&currencyPair=BTC_XEM&start=1103593128&end=1508331798&period=3600 <type 'str'>\n",
      "https://poloniex.com/public?command=returnChartData&currencyPair=BTC_XMR&start=1103593128&end=1508331798&period=3600 <type 'str'>\n",
      "https://poloniex.com/public?command=returnChartData&currencyPair=BTC_XPM&start=1103593128&end=1508331798&period=3600 <type 'str'>\n",
      "https://poloniex.com/public?command=returnChartData&currencyPair=BTC_XRP&start=1103593128&end=1508331798&period=3600 <type 'str'>\n",
      "https://poloniex.com/public?command=returnChartData&currencyPair=BTC_XVC&start=1103593128&end=1508331798&period=3600 <type 'str'>\n",
      "https://poloniex.com/public?command=returnChartData&currencyPair=BTC_ZEC&start=1103593128&end=1508331798&period=3600 <type 'str'>\n",
      "https://poloniex.com/public?command=returnChartData&currencyPair=BTC_ZRX&start=1103593128&end=1508331798&period=3600 <type 'str'>\n",
      "https://poloniex.com/public?command=returnChartData&currencyPair=ETH_BCH&start=1103593128&end=1508331798&period=3600 <type 'str'>\n",
      "https://poloniex.com/public?command=returnChartData&currencyPair=ETH_CVC&start=1103593128&end=1508331798&period=3600 <type 'str'>\n",
      "https://poloniex.com/public?command=returnChartData&currencyPair=ETH_ETC&start=1103593128&end=1508331798&period=3600 <type 'str'>\n",
      "https://poloniex.com/public?command=returnChartData&currencyPair=ETH_GAS&start=1103593128&end=1508331798&period=3600 <type 'str'>\n",
      "https://poloniex.com/public?command=returnChartData&currencyPair=ETH_GNO&start=1103593128&end=1508331798&period=3600 <type 'str'>\n",
      "https://poloniex.com/public?command=returnChartData&currencyPair=ETH_GNT&start=1103593128&end=1508331798&period=3600 <type 'str'>\n",
      "https://poloniex.com/public?command=returnChartData&currencyPair=ETH_LSK&start=1103593128&end=1508331798&period=3600 <type 'str'>\n",
      "https://poloniex.com/public?command=returnChartData&currencyPair=ETH_OMG&start=1103593128&end=1508331798&period=3600 <type 'str'>\n",
      "https://poloniex.com/public?command=returnChartData&currencyPair=ETH_REP&start=1103593128&end=1508331798&period=3600 <type 'str'>\n",
      "https://poloniex.com/public?command=returnChartData&currencyPair=ETH_STEEM&start=1103593128&end=1508331798&period=3600 <type 'str'>\n",
      "https://poloniex.com/public?command=returnChartData&currencyPair=ETH_ZEC&start=1103593128&end=1508331798&period=3600 <type 'str'>\n",
      "https://poloniex.com/public?command=returnChartData&currencyPair=ETH_ZRX&start=1103593128&end=1508331798&period=3600 <type 'str'>\n",
      "https://poloniex.com/public?command=returnChartData&currencyPair=USDT_BCH&start=1103593128&end=1508331798&period=3600 <type 'str'>\n",
      "https://poloniex.com/public?command=returnChartData&currencyPair=USDT_BTC&start=1103593128&end=1508331798&period=3600 <type 'str'>\n",
      "https://poloniex.com/public?command=returnChartData&currencyPair=USDT_DASH&start=1103593128&end=1508331798&period=3600 <type 'str'>\n",
      "https://poloniex.com/public?command=returnChartData&currencyPair=USDT_ETC&start=1103593128&end=1508331798&period=3600 <type 'str'>\n",
      "https://poloniex.com/public?command=returnChartData&currencyPair=USDT_ETH&start=1103593128&end=1508331798&period=3600 <type 'str'>\n",
      "https://poloniex.com/public?command=returnChartData&currencyPair=USDT_LTC&start=1103593128&end=1508331798&period=3600 <type 'str'>\n",
      "https://poloniex.com/public?command=returnChartData&currencyPair=USDT_NXT&start=1103593128&end=1508331798&period=3600 <type 'str'>\n",
      "https://poloniex.com/public?command=returnChartData&currencyPair=USDT_REP&start=1103593128&end=1508331798&period=3600 <type 'str'>\n",
      "https://poloniex.com/public?command=returnChartData&currencyPair=USDT_STR&start=1103593128&end=1508331798&period=3600 <type 'str'>\n",
      "https://poloniex.com/public?command=returnChartData&currencyPair=USDT_XMR&start=1103593128&end=1508331798&period=3600 <type 'str'>\n",
      "https://poloniex.com/public?command=returnChartData&currencyPair=USDT_XRP&start=1103593128&end=1508331798&period=3600 <type 'str'>\n",
      "https://poloniex.com/public?command=returnChartData&currencyPair=USDT_ZEC&start=1103593128&end=1508331798&period=3600 <type 'str'>\n",
      "https://poloniex.com/public?command=returnChartData&currencyPair=XMR_BCN&start=1103593128&end=1508331798&period=3600 <type 'str'>\n",
      "https://poloniex.com/public?command=returnChartData&currencyPair=XMR_BLK&start=1103593128&end=1508331798&period=3600 <type 'str'>\n",
      "https://poloniex.com/public?command=returnChartData&currencyPair=XMR_BTCD&start=1103593128&end=1508331798&period=3600 <type 'str'>\n",
      "https://poloniex.com/public?command=returnChartData&currencyPair=XMR_DASH&start=1103593128&end=1508331798&period=3600 <type 'str'>\n",
      "https://poloniex.com/public?command=returnChartData&currencyPair=XMR_LTC&start=1103593128&end=1508331798&period=3600 <type 'str'>\n",
      "https://poloniex.com/public?command=returnChartData&currencyPair=XMR_MAID&start=1103593128&end=1508331798&period=3600 <type 'str'>\n",
      "https://poloniex.com/public?command=returnChartData&currencyPair=XMR_NXT&start=1103593128&end=1508331798&period=3600 <type 'str'>\n",
      "https://poloniex.com/public?command=returnChartData&currencyPair=XMR_ZEC&start=1103593128&end=1508331798&period=3600 <type 'str'>\n",
      "https://poloniex.com/public?command=returnChartData&currencyPair=&start=1103593128&end=1508331798&period=3600 <type 'str'>\n"
     ]
    }
   ],
   "source": [
    "base_url=\"https://poloniex.com/public?command=returnChartData&currencyPair=\"\n",
    "for i in p:\n",
    "    t= base_url+i+\"&start=\"+str(start)+\"&end=\"+str(end)+\"&period=\"+str(period)\n",
    "    print t, type(i)"
   ]
  },
  {
   "cell_type": "code",
   "execution_count": 24,
   "metadata": {
    "collapsed": true
   },
   "outputs": [],
   "source": [
    "ticker_url=base_url+i+\"&start=\"+str(start)+\"&end=\"+str(end)+\"&period=\"+str(period)\n",
    "html_ticker=requests.get(ticker_url).text\n",
    "ticker_data=json.loads(html_ticker)"
   ]
  },
  {
   "cell_type": "code",
   "execution_count": 26,
   "metadata": {},
   "outputs": [
    {
     "name": "stdout",
     "output_type": "stream",
     "text": [
      "https://poloniex.com/public?command=returnChartData&currencyPair=&start=1103593128&end=1508101530&period=86400\n"
     ]
    }
   ],
   "source": [
    "\"https://poloniex.com/public?command=returnChartData&currencyPair=\"\n",
    "print ticker_url"
   ]
  },
  {
   "cell_type": "code",
   "execution_count": 46,
   "metadata": {},
   "outputs": [
    {
     "name": "stdout",
     "output_type": "stream",
     "text": [
      "\n"
     ]
    }
   ],
   "source": [
    "print i"
   ]
  },
  {
   "cell_type": "code",
   "execution_count": null,
   "metadata": {
    "collapsed": true
   },
   "outputs": [],
   "source": []
  }
 ],
 "metadata": {
  "anaconda-cloud": {},
  "kernelspec": {
   "display_name": "Python 2",
   "language": "python",
   "name": "python2"
  },
  "language_info": {
   "codemirror_mode": {
    "name": "ipython",
    "version": 2
   },
   "file_extension": ".py",
   "mimetype": "text/x-python",
   "name": "python",
   "nbconvert_exporter": "python",
   "pygments_lexer": "ipython2",
   "version": "2.7.13"
  }
 },
 "nbformat": 4,
 "nbformat_minor": 1
}
