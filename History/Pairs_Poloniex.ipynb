{
 "cells": [
  {
   "cell_type": "code",
   "execution_count": 16,
   "metadata": {
    "collapsed": true
   },
   "outputs": [],
   "source": [
    "import requests\n",
    "import json\n",
    "import csv\n",
    "\n",
    "def write_csv(new_line):\n",
    "    with open(\"pairs_poloniex.txt\", \"a\" ) as fout:\n",
    "        writer=csv.writer(fout)\n",
    "        writer.writerow((new_line))\n"
   ]
  },
  {
   "cell_type": "code",
   "execution_count": 25,
   "metadata": {},
   "outputs": [
    {
     "name": "stdout",
     "output_type": "stream",
     "text": [
      "1 [u'USDT_REP']\n",
      "2 [u'BTC_CVC']\n",
      "3 [u'BTC_XVC']\n",
      "4 [u'BTC_PINK']\n",
      "5 [u'BTC_SYS']\n",
      "6 [u'BTC_EMC2']\n",
      "7 [u'BTC_RADS']\n",
      "8 [u'BTC_SC']\n",
      "9 [u'BTC_MAID']\n",
      "10 [u'BTC_BCH']\n",
      "11 [u'BTC_GNT']\n",
      "12 [u'BTC_BCN']\n",
      "13 [u'BTC_REP']\n",
      "14 [u'BTC_BCY']\n",
      "15 [u'BTC_GNO']\n",
      "16 [u'XMR_NXT']\n",
      "17 [u'USDT_ZEC']\n",
      "18 [u'BTC_FCT']\n",
      "19 [u'BTC_GAS']\n",
      "20 [u'USDT_ETH']\n",
      "21 [u'USDT_BTC']\n",
      "22 [u'BTC_LBC']\n",
      "23 [u'BTC_DCR']\n",
      "24 [u'USDT_ETC']\n",
      "25 [u'ETH_OMG']\n",
      "26 [u'BTC_AMP']\n",
      "27 [u'BTC_XPM']\n",
      "28 [u'BTC_NXT']\n",
      "29 [u'BTC_VTC']\n",
      "30 [u'ETH_STEEM']\n",
      "31 [u'XMR_BLK']\n",
      "32 [u'BTC_PASC']\n",
      "33 [u'XMR_ZEC']\n",
      "34 [u'BTC_GRC']\n",
      "35 [u'BTC_NXC']\n",
      "36 [u'BTC_BTCD']\n",
      "37 [u'BTC_LTC']\n",
      "38 [u'BTC_DASH']\n",
      "39 [u'BTC_NAUT']\n",
      "40 [u'ETH_ZEC']\n",
      "41 [u'BTC_ZEC']\n",
      "42 [u'BTC_BURST']\n",
      "43 [u'ETH_ZRX']\n",
      "44 [u'BTC_BELA']\n",
      "45 [u'BTC_STEEM']\n",
      "46 [u'BTC_ETC']\n",
      "47 [u'BTC_ETH']\n",
      "48 [u'BTC_HUC']\n",
      "49 [u'BTC_STRAT']\n",
      "50 [u'BTC_LSK']\n",
      "51 [u'BTC_EXP']\n",
      "52 [u'BTC_CLAM']\n",
      "53 [u'ETH_REP']\n",
      "54 [u'XMR_DASH']\n",
      "55 [u'ETH_CVC']\n",
      "56 [u'USDT_BCH']\n",
      "57 [u'BTC_ZRX']\n",
      "58 [u'USDT_DASH']\n",
      "59 [u'BTC_BLK']\n",
      "60 [u'BTC_XRP']\n",
      "61 [u'USDT_NXT']\n",
      "62 [u'BTC_NEOS']\n",
      "63 [u'BTC_OMG']\n",
      "64 [u'BTC_BTS']\n",
      "65 [u'BTC_DOGE']\n",
      "66 [u'ETH_GNT']\n",
      "67 [u'BTC_SBD']\n",
      "68 [u'ETH_GNO']\n",
      "69 [u'BTC_XCP']\n",
      "70 [u'USDT_LTC']\n",
      "71 [u'BTC_BTM']\n",
      "72 [u'USDT_XMR']\n",
      "73 [u'ETH_LSK']\n",
      "74 [u'BTC_OMNI']\n",
      "75 [u'BTC_NAV']\n",
      "76 [u'BTC_FLDC']\n",
      "77 [u'ETH_BCH']\n",
      "78 [u'BTC_XBC']\n",
      "79 [u'BTC_DGB']\n",
      "80 [u'BTC_NOTE']\n",
      "81 [u'XMR_BTCD']\n",
      "82 [u'BTC_VRC']\n",
      "83 [u'BTC_RIC']\n",
      "84 [u'XMR_MAID']\n",
      "85 [u'BTC_STR']\n",
      "86 [u'BTC_POT']\n",
      "87 [u'BTC_XMR']\n",
      "88 [u'BTC_SJCX']\n",
      "89 [u'BTC_VIA']\n",
      "90 [u'BTC_XEM']\n",
      "91 [u'BTC_NMC']\n",
      "92 [u'ETH_ETC']\n",
      "93 [u'XMR_LTC']\n",
      "94 [u'BTC_ARDR']\n",
      "95 [u'ETH_GAS']\n",
      "96 [u'BTC_FLO']\n",
      "97 [u'USDT_XRP']\n",
      "98 [u'BTC_GAME']\n",
      "99 [u'BTC_PPC']\n",
      "100 [u'XMR_BCN']\n",
      "101 [u'USDT_STR']\n"
     ]
    }
   ],
   "source": [
    "url=\"https://poloniex.com/public?command=returnTicker\"\n",
    "html_ticker=requests.get(url).text\n",
    "ticker_data=json.loads(html_ticker)\n",
    "q=1\n",
    "for i in ticker_data:    \n",
    "    new_line=[i]\n",
    "    write_csv(new_line)    \n",
    "    print q, new_line\n",
    "    q=q+1"
   ]
  },
  {
   "cell_type": "code",
   "execution_count": 24,
   "metadata": {},
   "outputs": [
    {
     "ename": "AttributeError",
     "evalue": "'dict' object has no attribute 'sort'",
     "output_type": "error",
     "traceback": [
      "\u001b[1;31m---------------------------------------------------------------------------\u001b[0m",
      "\u001b[1;31mAttributeError\u001b[0m                            Traceback (most recent call last)",
      "\u001b[1;32m<ipython-input-24-49f0d75aad91>\u001b[0m in \u001b[0;36m<module>\u001b[1;34m()\u001b[0m\n\u001b[1;32m----> 1\u001b[1;33m \u001b[1;32mprint\u001b[0m \u001b[0mticker_data\u001b[0m\u001b[1;33m.\u001b[0m\u001b[0msort\u001b[0m\u001b[1;33m(\u001b[0m\u001b[1;33m)\u001b[0m\u001b[1;33m\u001b[0m\u001b[0m\n\u001b[0m",
      "\u001b[1;31mAttributeError\u001b[0m: 'dict' object has no attribute 'sort'"
     ]
    }
   ],
   "source": []
  },
  {
   "cell_type": "code",
   "execution_count": null,
   "metadata": {
    "collapsed": true
   },
   "outputs": [],
   "source": []
  }
 ],
 "metadata": {
  "kernelspec": {
   "display_name": "Python 2",
   "language": "python",
   "name": "python2"
  },
  "language_info": {
   "codemirror_mode": {
    "name": "ipython",
    "version": 2
   },
   "file_extension": ".py",
   "mimetype": "text/x-python",
   "name": "python",
   "nbconvert_exporter": "python",
   "pygments_lexer": "ipython2",
   "version": "2.7.13"
  }
 },
 "nbformat": 4,
 "nbformat_minor": 2
}
