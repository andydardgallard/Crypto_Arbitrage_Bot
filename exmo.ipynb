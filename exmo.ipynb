{
 "cells": [
  {
   "cell_type": "code",
   "execution_count": 1,
   "metadata": {
    "collapsed": true
   },
   "outputs": [],
   "source": [
    "import requests\n",
    "import json\n",
    "import csv\n",
    "\n",
    "def write_csv(new_line):\n",
    "    with open(\"exmo.csv\", \"a\" ) as fout:\n",
    "        writer=csv.writer(fout)\n",
    "        writer.writerow((new_line))"
   ]
  },
  {
   "cell_type": "code",
   "execution_count": 2,
   "metadata": {
    "collapsed": false
   },
   "outputs": [
    {
     "name": "stdout",
     "output_type": "stream",
     "text": [
      "['exmo', u'ETH_USD', u'365.09990001', u'366.49999999', 365.0999000012911, 366.4999999992026]\n",
      "['exmo', u'DASH_RUB', u'9932.11800001', u'9962.00399999', 9897.729252399446, 10009.475108430706]\n",
      "['exmo', u'BTC_USD', u'2562', u'2568', 2562.0, 2568.0]\n",
      "['exmo', u'LTC_BTC', u'0.01301001', u'0.01308', 0.013004444147384001, 0.0130873886983712]\n",
      "['exmo', u'BTC_RUB', u'152111.0010101', u'152967.951519', 151827.96663975948, 152993.42387457693]\n",
      "['exmo', u'USD_RUB', u'59.01000001', u'59.28999999', 59.01000001, 59.28999999492248]\n",
      "['exmo', u'ETH_BTC', u'0.14250002', u'0.14329999', u'0.14250002', 0.14329999]\n",
      "['exmo', u'ETH_EUR', u'329', u'332.00239999', 328.89870123664423, 333.6186670572989]\n",
      "['exmo', u'ETH_LTC', u'10.94412341', u'11.0288253', u'10.94412341', 11.0288253]\n",
      "['exmo', u'DOGE_BTC', u'0.0000012', u'0.00000121', 1.2e-06, 1.21e-06]\n",
      "['exmo', u'DASH_BTC', u'0.06531003', u'0.06567', 0.06531002, u'0.06567']\n",
      "['exmo', u'BTC_UAH', u'68502', u'69300', 68361.47156400059, 69709.74158679998]\n",
      "['exmo', u'ETH_RUB', u'21601.00000001', u'21699.99999999', 21600.96, 21749.983386]\n",
      "['exmo', u'DASH_USD', u'167.71490001', u'169.00639999', 167.714885, 169.2913845881314]\n",
      "['exmo', u'LTC_RUB', u'1982.02752111', u'1984.20271742', 1970.7854570589022, 1987.5667093011643]\n",
      "['exmo', u'BTC_EUR', u'2306.19431212', u'2308.08073654', u'2306.19431212', 2328.9281167098197]\n"
     ]
    }
   ],
   "source": [
    "pos=0.25\n",
    "base_url=\"https://api.exmo.com/v1/\"\n",
    "\n",
    "ticker_url=base_url+\"ticker/\"\n",
    "html_ticker=requests.get(ticker_url).text\n",
    "ticker_data=json.loads(html_ticker)\n",
    "\n",
    "for i in ticker_data:\n",
    "    depth_url=base_url+\"order_book/?pair=\"+i+\"&limit=10\"\n",
    "    html_depth=requests.get(depth_url).text\n",
    "    depth_data=json.loads(html_depth)\n",
    "    \n",
    "    try:\n",
    "        q=0\n",
    "        w=[]\n",
    "        e=[]\n",
    "        for j in depth_data[i]['bid']:    \n",
    "            q=q+float(j[1])\n",
    "            if q>pos:\n",
    "                w.append(j)\n",
    "            if q<pos:\n",
    "                e.append(j)  \n",
    "        r=0\n",
    "        t=0\n",
    "        for j in e:\n",
    "            r=float(j[0])*float(j[1])+r\n",
    "            t=float(j[1])+t    \n",
    "        r=float(w[0][0])*(pos-t)+r\n",
    "        bids=r/pos\n",
    "    except:\n",
    "        bids=ticker_data[i]['buy_price']\n",
    "        \n",
    "    try:\n",
    "        q=0\n",
    "        w=[]\n",
    "        e=[]\n",
    "        for j in depth_data[i]['ask']:    \n",
    "            q=q+float(j[1])\n",
    "            if q>pos:\n",
    "                w.append(j)\n",
    "            if q<pos:\n",
    "                e.append(j)  \n",
    "        r=0\n",
    "        t=0\n",
    "        for j in e:\n",
    "            r=float(j[0])*float(j[1])+r\n",
    "            t=float(j[1])+t    \n",
    "        r=float(w[0][0])*(pos-t)+r\n",
    "        asks=r/pos\n",
    "    except:\n",
    "        asks=ticker_data[i]['sell_price']\n",
    "        \n",
    "    new_line=[\"exmo\", i, ticker_data[i]['buy_price'], ticker_data[i]['sell_price'], bids, asks]\n",
    "    \n",
    "    print new_line\n",
    "    write_csv(new_line)"
   ]
  },
  {
   "cell_type": "code",
   "execution_count": null,
   "metadata": {
    "collapsed": true
   },
   "outputs": [],
   "source": []
  }
 ],
 "metadata": {
  "anaconda-cloud": {},
  "kernelspec": {
   "display_name": "Python [Root]",
   "language": "python",
   "name": "Python [Root]"
  },
  "language_info": {
   "codemirror_mode": {
    "name": "ipython",
    "version": 2
   },
   "file_extension": ".py",
   "mimetype": "text/x-python",
   "name": "python",
   "nbconvert_exporter": "python",
   "pygments_lexer": "ipython2",
   "version": "2.7.12"
  }
 },
 "nbformat": 4,
 "nbformat_minor": 0
}
