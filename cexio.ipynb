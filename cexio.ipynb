{
 "cells": [
  {
   "cell_type": "code",
   "execution_count": 1,
   "metadata": {
    "collapsed": true
   },
   "outputs": [],
   "source": [
    "import requests\n",
    "import json\n",
    "import csv\n",
    "\n",
    "def write_csv(new_line):\n",
    "    with open(\"cexio.csv\", \"a\" ) as fout:\n",
    "        writer=csv.writer(fout)\n",
    "        writer.writerow((new_line))"
   ]
  },
  {
   "cell_type": "code",
   "execution_count": 2,
   "metadata": {
    "collapsed": false
   },
   "outputs": [
    {
     "name": "stdout",
     "output_type": "stream",
     "text": [
      "['cexio', u'BTC/USD', 2669.484, 2676.6198, 2669.484004, 2676.6199057388085]\n",
      "['cexio', u'ETH/USD', 382.88999798, 383.63983153, 381.43093984380994, 383.63983152599366]\n",
      "['cexio', u'BTC/RUB', 159101.02, 163900.28, 158155.2193668656, 164133.975856612]\n",
      "['cexio', u'GHS/BTC', 1.465e-05, 1.514e-05, 1.465e-05, 1.514e-05]\n",
      "['cexio', u'ETH/BTC', 0.1424339, 0.1428, 0.1424339, 0.1428]\n"
     ]
    }
   ],
   "source": [
    "pos=0.25\n",
    "base_url=\"https://cex.io/api/\"\n",
    "\n",
    "ticker_url=base_url+\"tickers/USD/RUB/BTC\"\n",
    "html_ticker=requests.get(ticker_url).text\n",
    "ticker_data=json.loads(html_ticker)\n",
    "\n",
    "for i in ticker_data[\"data\"]:\n",
    "    depth_url=base_url+\"order_book/\"+i[\"pair\"].replace(\":\",\"/\")+\"/?depth=10\"\n",
    "    html_depth=requests.get(depth_url).text\n",
    "    depth_data=json.loads(html_depth)\n",
    "    \n",
    "    q=0\n",
    "    w=[]\n",
    "    e=[]\n",
    "    for j in depth_data['bids']:    \n",
    "        q=q+float(j[1])\n",
    "        if q>pos:\n",
    "            w.append(j)\n",
    "        if q<pos:\n",
    "            e.append(j)  \n",
    "    r=0\n",
    "    t=0\n",
    "    for j in e:\n",
    "        r=float(j[0])*j[1]+r\n",
    "        t=j[1]+t    \n",
    "    r=float(w[0][0])*(pos-t)+r\n",
    "    bids=r/pos\n",
    "    \n",
    "    q=0\n",
    "    w=[]\n",
    "    e=[]\n",
    "    for j in depth_data['asks']:    \n",
    "        q=q+float(j[1])\n",
    "        if q>pos:\n",
    "            w.append(j)\n",
    "        if q<pos:\n",
    "            e.append(j)  \n",
    "    r=0\n",
    "    t=0\n",
    "    for j in e:\n",
    "        r=float(j[0])*j[1]+r\n",
    "        t=j[1]+t    \n",
    "    r=float(w[0][0])*(pos-t)+r\n",
    "    asks=r/pos\n",
    "    \n",
    "    new_line=[\"cexio\", i[\"pair\"].replace(\":\",\"/\"), i[\"bid\"], i[\"ask\"], bids, asks]\n",
    "    \n",
    "    print new_line\n",
    "    \n",
    "    #write_csv(new_line)"
   ]
  },
  {
   "cell_type": "code",
   "execution_count": null,
   "metadata": {
    "collapsed": true
   },
   "outputs": [],
   "source": []
  }
 ],
 "metadata": {
  "kernelspec": {
   "display_name": "Python [Root]",
   "language": "python",
   "name": "Python [Root]"
  },
  "language_info": {
   "codemirror_mode": {
    "name": "ipython",
    "version": 2
   },
   "file_extension": ".py",
   "mimetype": "text/x-python",
   "name": "python",
   "nbconvert_exporter": "python",
   "pygments_lexer": "ipython2",
   "version": "2.7.12"
  }
 },
 "nbformat": 4,
 "nbformat_minor": 0
}
